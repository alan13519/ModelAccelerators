{
 "cells": [
  {
   "cell_type": "code",
   "execution_count": 1,
   "metadata": {
    "ExecuteTime": {
     "end_time": "2020-05-26T02:53:42.909971Z",
     "start_time": "2020-05-26T02:53:41.311680Z"
    }
   },
   "outputs": [],
   "source": [
    "import pandas as pd\n",
    "import matplotlib.pyplot as plt\n",
    "import seaborn as sns\n",
    "import numpy as np\n",
    "\n",
    "from sklearn.ensemble import IsolationForest\n",
    "from sklearn.metrics import roc_curve\n",
    "from sklearn.metrics import make_scorer, f1_score, precision_score, recall_score, roc_auc_score, accuracy_score\n",
    "from sklearn.model_selection import train_test_split\n",
    "from sklearn.model_selection import StratifiedKFold\n",
    "from sklearn import model_selection\n",
    "\n",
    "from data_preprocess import pre_processing # Used to preprocess data\n",
    "from sklearn.metrics import confusion_matrix"
   ]
  },
  {
   "cell_type": "markdown",
   "metadata": {},
   "source": [
    "## Isolation Forest Accelerator for Anomaly Detection\n",
    "The model takes in a dataframe and several other parameters and outs a series of whether a point is an anomaly or not"
   ]
  },
  {
   "cell_type": "code",
   "execution_count": 2,
   "metadata": {
    "ExecuteTime": {
     "end_time": "2020-05-26T02:53:42.931745Z",
     "start_time": "2020-05-26T02:53:42.911789Z"
    }
   },
   "outputs": [],
   "source": [
    "class IsolationForestAccel:\n",
    "    def __init__(self, df, y_label, hypertune=False, isolation_params={}, \n",
    "                 sequence_matters=False, random_state=42, train_size=0.8,\n",
    "                 **kwargs):\n",
    "        \"\"\"\n",
    "        Isolation forest detects anomalies by randomly selecting a feature and then \n",
    "        randomly selecting a split value between the maximum and minimum values of \n",
    "        the selected features.\n",
    "        \n",
    "        params:\n",
    "        df: dataframe which we want to detect the anomaly\n",
    "        y_label: the y label of which we are predicting\n",
    "        hypertune: whether or not we want to hypertune the model, if it is false\n",
    "        then it will use base isolation forest params unless parameters are defined\n",
    "        isolation_params: parameters if we do not want to hypertune the parameters, will \n",
    "        be used if hypertune is equal to True\n",
    "        sequence_matters: True if it is a time series, False otherwise\n",
    "        train_size: train size for train test split\n",
    "        \"\"\"      \n",
    "        \n",
    "        # If sequence is true then we will do a sequence split of first (n% and 1-n%)\n",
    "        # The split is only used if we are hypertuning, other wise\n",
    "        if sequence_matters == True:\n",
    "            # Train test train split\n",
    "            train_size = int(train_size * len(df))\n",
    "            train, test = df[:train_size], df[train_size:]\n",
    "        else: # We do a random split, usually for non time series data\n",
    "            # test train split\n",
    "            train, test = train_test_split(df, test_size=(1-train_size), random_state=random_state)\n",
    "            \n",
    "        # Drop labels here\n",
    "        X_train = train.drop(y_label, axis=1)\n",
    "        y_train = train[y_label].values\n",
    "        X_test = test.drop(y_label, axis=1)\n",
    "        y_test = test[y_label].values\n",
    "\n",
    "        # Isolation Forest outputs 1 and -1 so we have this here to compare \n",
    "        y_test = [1 if x == 0 else -1 for x in y_test]\n",
    "        y_train = [1 if x == 0 else -1 for x in y_train]\n",
    "        \n",
    "#         if len(isolation_params) == 0:\n",
    "#             isolation_params = {'n_estimators': [10, 100, 200], \n",
    "#               'max_samples': [10, 100, 200], \n",
    "#               'contamination': [0.1, 0.3, 0.5], \n",
    "#               'max_features': [5, 10, 15], \n",
    "#               'bootstrap': [True, False], \n",
    "#               'n_jobs': [5, 10, 20]}\n",
    "\n",
    "        if len(isolation_params) == 0:\n",
    "            isolation_params = {'n_estimators': [100], \n",
    "              'max_samples': [100], \n",
    "              'contamination': [0.5, 1], \n",
    "              'max_features': [15], \n",
    "              'bootstrap': [True], \n",
    "              'n_jobs': [-1]}\n",
    "        \n",
    "\n",
    "        \"\"\"\n",
    "        If we want to hypertune we will use the train test split data to find the best\n",
    "        model for the scoring metric we defined, we should always hypertune first, to find\n",
    "        the best parameters, only set hypertune to false once we know the best parameters\n",
    "        \"\"\"\n",
    "        if hypertune == True:\n",
    "            \n",
    "            # Some Grid Search params\n",
    "            scoring = kwargs.get('scoring', 'f1')\n",
    "            refit = kwargs.get('refit', True)\n",
    "            cv = kwargs.get('cv', 10)\n",
    "            return_train_score = kwargs.get('return_train_score', True)\n",
    "            \n",
    "            # For CV hypertuning\n",
    "            skf = StratifiedKFold(n_splits=cv)\n",
    "            folds = list(skf.split(X_train, y_train))\n",
    "            \n",
    "            isolation_forest = IsolationForest(random_state=random_state, behaviour='new')\n",
    "            grid_dt_estimator = model_selection.GridSearchCV(isolation_forest, \n",
    "                                                 param_grid=isolation_params, \n",
    "                                                 scoring=scoring, \n",
    "                                                 refit=refit,\n",
    "                                                 cv=folds,\n",
    "                                                 return_train_score=return_train_score)\n",
    "            \n",
    "            grid_dt_estimator.fit(X_train, y_train)\n",
    "            \n",
    "            # Save the best model\n",
    "            self.model = grid_dt_estimator.best_estimator_    \n",
    "        else:\n",
    "            n_estimators = kwargs.get('n_estimators', 100)\n",
    "            max_samples = kwargs.get('max_samples', 100)\n",
    "            contamination = kwargs.get('contamination', 0.5)\n",
    "            max_features = kwargs.get('max_features', 15)\n",
    "            bootstrap = kwargs.get('bootstrap', True)\n",
    "            \n",
    "            isolation_forest = IsolationForest(random_state=random_state, behaviour='new',\n",
    "                                               n_estimators=n_estimators, max_samples=max_samples,\n",
    "                                               contamination=contamination, max_features=max_features,\n",
    "                                               bootstrap=bootstrap, n_jobs=-1)\n",
    "            isolation_forest.fit(X_train)\n",
    "            \n",
    "            self.model = isolation_forest\n",
    "            \n",
    "    def predict(self, data):\n",
    "        \"\"\"\n",
    "        This method predicts anomalies given a dataset that this class was trained on,\n",
    "        the dataset must have the same columns as the trained model, it will output the \n",
    "        an array of anomalies (1 for anomaly or -1 for non-anomaly)\n",
    "        \"\"\"\n",
    "        return self.model.predict(data)\n",
    "    \n",
    "    @staticmethod\n",
    "    def get_scores(y_pred, y_true, scoring='f1', y_proba=None):\n",
    "        if scoring.startswith('roc'):\n",
    "            if  y_proba is None:\n",
    "                return 'ROC AUC requires probability scores'\n",
    "            else:\n",
    "                return roc_auc_score(y_pred, y_proba)\n",
    "            \n",
    "        # Convert scores for isolation Tree for Non-ROCAUC\n",
    "        y_pred = [0 if x== 1 else 1 for x in y_pred]\n",
    "        y_true = [0 if x== 1 else 1 for x in y_true]\n",
    "        \n",
    "        if scoring.startswith('f1'):\n",
    "            score = f1_score(y_pred, y_true)\n",
    "        elif scoring.startswith('pre'):\n",
    "            score = precision_score(y_pred, y_true)\n",
    "        elif scoring.startswith('rec'):\n",
    "            score = recall_score(y_pred, y_true)\n",
    "        elif scoring.startswith('acc'):\n",
    "            score = accuracy_score(y_pred, y_true)\n",
    "        else:\n",
    "            score = f\"Scoring Method: {scoring} not implemented\"\n",
    "        return score\n",
    "    \n",
    "    @staticmethod\n",
    "    def get_all_scores(y_pred, y_true, y_proba):\n",
    "        # This just prints all scores above above\n",
    "        print(f\"ROC_AUC: {IsolationForestAccel.get_scores(y_pred, y_true, scoring='roc', y_proba=y_proba):0.2f}\")\n",
    "        print(f\"F1: {IsolationForestAccel.get_scores(y_pred, y_true, scoring='f1'):0.2f}\")\n",
    "        print(f\"Precision: {IsolationForestAccel.get_scores(y_pred, y_true, scoring='pre'):0.2f}\")\n",
    "        print(f\"Recall: {IsolationForestAccel.get_scores(y_pred, y_true, scoring='rec'):0.2f}\")\n",
    "        print(f\"Accuracy: {IsolationForestAccel.get_scores(y_pred, y_true, scoring='acc'):0.2f}\")\n",
    "\n",
    "    @staticmethod\n",
    "    def get_confusion_matrix(y_pred, y_true, cmap='coolwarm'):\n",
    "        plt.figure(figsize=(10,8))\n",
    "        \n",
    "        cf_matrix = confusion_matrix(y_test, y_true)\n",
    "        group_names = ['True Anomalies', 'Unflagged Anom', 'Falsely Flagged Anom', 'Non-Anomalies']\n",
    "        group_counts = [\"{0:0.0f}\".format(value) for value in cf_matrix.flatten()]\n",
    "        group_percentages = [\"{0:.2%}\".format(value) for value in cf_matrix.flatten()/np.sum(cf_matrix)]\n",
    "        \n",
    "        # Labels combine group names, counts, and percentages\n",
    "        labels = [f\"{v1}\\n{v2}\\n{v3}\" for v1, v2, v3 in zip(group_names, group_counts, group_percentages)] \n",
    "        labels = np.asarray(labels).reshape(2,2)\n",
    "              \n",
    "        sns.heatmap(cf_matrix, annot=labels, fmt=\"\", cmap=cmap)"
   ]
  },
  {
   "cell_type": "markdown",
   "metadata": {},
   "source": [
    "##### Preprocess the Data"
   ]
  },
  {
   "cell_type": "code",
   "execution_count": 3,
   "metadata": {
    "ExecuteTime": {
     "end_time": "2020-05-26T02:53:43.203013Z",
     "start_time": "2020-05-26T02:53:42.934727Z"
    }
   },
   "outputs": [],
   "source": [
    "df = pre_processing(pd.read_csv(\"data.csv\"))"
   ]
  },
  {
   "cell_type": "markdown",
   "metadata": {},
   "source": [
    "##### Set aside some data that the model doesn't see so that we can calculate how well the model does"
   ]
  },
  {
   "cell_type": "code",
   "execution_count": 4,
   "metadata": {
    "ExecuteTime": {
     "end_time": "2020-05-26T02:53:43.213983Z",
     "start_time": "2020-05-26T02:53:43.204006Z"
    }
   },
   "outputs": [],
   "source": [
    "# We will set aside 20% of the data\n",
    "train_size = 0.8\n",
    "y_label = 'default_ind'\n",
    "\n",
    "# Split data \n",
    "train_size = int(train_size * len(df))\n",
    "train, test = df[:train_size], df[train_size:]\n",
    "\n",
    "# Test is for testing purposes later\n",
    "X_test = test.drop(y_label, axis=1)\n",
    "y_test = test[y_label].values\n",
    "y_test = [1 if x == 0 else -1 for x in y_test]"
   ]
  },
  {
   "cell_type": "markdown",
   "metadata": {},
   "source": [
    "##### Model "
   ]
  },
  {
   "cell_type": "code",
   "execution_count": 5,
   "metadata": {
    "ExecuteTime": {
     "end_time": "2020-05-26T02:53:55.960149Z",
     "start_time": "2020-05-26T02:53:43.214977Z"
    }
   },
   "outputs": [
    {
     "name": "stderr",
     "output_type": "stream",
     "text": [
      "C:\\Users\\Himanshu\\Anaconda3\\lib\\site-packages\\sklearn\\metrics\\classification.py:1437: UndefinedMetricWarning: F-score is ill-defined and being set to 0.0 due to no predicted samples.\n",
      "  'precision', 'predicted', average, warn_for)\n",
      "C:\\Users\\Himanshu\\Anaconda3\\lib\\site-packages\\sklearn\\metrics\\classification.py:1437: UndefinedMetricWarning: F-score is ill-defined and being set to 0.0 due to no predicted samples.\n",
      "  'precision', 'predicted', average, warn_for)\n",
      "C:\\Users\\Himanshu\\Anaconda3\\lib\\site-packages\\sklearn\\metrics\\classification.py:1437: UndefinedMetricWarning: F-score is ill-defined and being set to 0.0 due to no predicted samples.\n",
      "  'precision', 'predicted', average, warn_for)\n",
      "C:\\Users\\Himanshu\\Anaconda3\\lib\\site-packages\\sklearn\\metrics\\classification.py:1437: UndefinedMetricWarning: F-score is ill-defined and being set to 0.0 due to no predicted samples.\n",
      "  'precision', 'predicted', average, warn_for)\n",
      "C:\\Users\\Himanshu\\Anaconda3\\lib\\site-packages\\sklearn\\metrics\\classification.py:1437: UndefinedMetricWarning: F-score is ill-defined and being set to 0.0 due to no predicted samples.\n",
      "  'precision', 'predicted', average, warn_for)\n",
      "C:\\Users\\Himanshu\\Anaconda3\\lib\\site-packages\\sklearn\\metrics\\classification.py:1437: UndefinedMetricWarning: F-score is ill-defined and being set to 0.0 due to no predicted samples.\n",
      "  'precision', 'predicted', average, warn_for)\n",
      "C:\\Users\\Himanshu\\Anaconda3\\lib\\site-packages\\sklearn\\metrics\\classification.py:1437: UndefinedMetricWarning: F-score is ill-defined and being set to 0.0 due to no predicted samples.\n",
      "  'precision', 'predicted', average, warn_for)\n",
      "C:\\Users\\Himanshu\\Anaconda3\\lib\\site-packages\\sklearn\\metrics\\classification.py:1437: UndefinedMetricWarning: F-score is ill-defined and being set to 0.0 due to no predicted samples.\n",
      "  'precision', 'predicted', average, warn_for)\n",
      "C:\\Users\\Himanshu\\Anaconda3\\lib\\site-packages\\sklearn\\metrics\\classification.py:1437: UndefinedMetricWarning: F-score is ill-defined and being set to 0.0 due to no predicted samples.\n",
      "  'precision', 'predicted', average, warn_for)\n"
     ]
    }
   ],
   "source": [
    "\"\"\"\n",
    "Hypertuning takes a while to run \n",
    "feel free to set hypertune to True to test it out\n",
    "it will take over an hour depending on machine\n",
    "\"\"\"\n",
    "\n",
    "iso_forest = IsolationForestAccel(df=df, y_label=y_label, hypertune=True)"
   ]
  },
  {
   "cell_type": "markdown",
   "metadata": {},
   "source": [
    "##### Confusion Matrix"
   ]
  },
  {
   "cell_type": "code",
   "execution_count": 6,
   "metadata": {
    "ExecuteTime": {
     "end_time": "2020-05-26T02:53:56.267667Z",
     "start_time": "2020-05-26T02:53:55.962010Z"
    }
   },
   "outputs": [
    {
     "data": {
      "image/png": "[encoded data removed]",
      "text/plain": [
       "<Figure size 720x576 with 2 Axes>"
      ]
     },
     "metadata": {
      "needs_background": "light"
     },
     "output_type": "display_data"
    }
   ],
   "source": [
    "y_pred = iso_forest.predict(X_test)\n",
    "y_proba = iso_forest.model.decision_function(X_test) # For ROC score\n",
    "iso_forest.get_confusion_matrix(y_test, y_pred)"
   ]
  },
  {
   "cell_type": "markdown",
   "metadata": {},
   "source": [
    "##### Scores"
   ]
  },
  {
   "cell_type": "code",
   "execution_count": 7,
   "metadata": {
    "ExecuteTime": {
     "end_time": "2020-05-26T02:53:56.289632Z",
     "start_time": "2020-05-26T02:53:56.268663Z"
    }
   },
   "outputs": [
    {
     "name": "stdout",
     "output_type": "stream",
     "text": [
      "ROC_AUC: 0.56\n",
      "F1: 0.26\n",
      "Precision: 0.17\n",
      "Recall: 0.53\n",
      "Accuracy: 0.57\n"
     ]
    }
   ],
   "source": [
    "iso_forest.get_all_scores(y_test, y_pred, y_proba=y_proba)"
   ]
  },
  {
   "cell_type": "code",
   "execution_count": 11,
   "metadata": {
    "ExecuteTime": {
     "end_time": "2020-05-26T03:00:37.766782Z",
     "start_time": "2020-05-26T03:00:37.762793Z"
    }
   },
   "outputs": [],
   "source": [
    "cf = np.array([[151,135],\n",
    "[500,900]])"
   ]
  },
  {
   "cell_type": "code",
   "execution_count": 12,
   "metadata": {
    "ExecuteTime": {
     "end_time": "2020-05-26T03:00:40.640585Z",
     "start_time": "2020-05-26T03:00:40.635598Z"
    }
   },
   "outputs": [
    {
     "data": {
      "text/plain": [
       "array([[151, 135],\n",
       "       [500, 900]])"
      ]
     },
     "execution_count": 12,
     "metadata": {},
     "output_type": "execute_result"
    }
   ],
   "source": [
    "cf"
   ]
  },
  {
   "cell_type": "code",
   "execution_count": 17,
   "metadata": {
    "ExecuteTime": {
     "end_time": "2020-05-26T03:01:51.464051Z",
     "start_time": "2020-05-26T03:01:51.458064Z"
    }
   },
   "outputs": [
    {
     "data": {
      "text/plain": [
       "array([[900, 500],\n",
       "       [135, 151]])"
      ]
     },
     "execution_count": 17,
     "metadata": {},
     "output_type": "execute_result"
    }
   ],
   "source": []
  },
  {
   "cell_type": "code",
   "execution_count": null,
   "metadata": {},
   "outputs": [],
   "source": []
  }
 ],
 "metadata": {
  "kernelspec": {
   "display_name": "Python 3",
   "language": "python",
   "name": "python3"
  },
  "language_info": {
   "codemirror_mode": {
    "name": "ipython",
    "version": 3
   },
   "file_extension": ".py",
   "mimetype": "text/x-python",
   "name": "python",
   "nbconvert_exporter": "python",
   "pygments_lexer": "ipython3",
   "version": "3.7.3"
  }
 },
 "nbformat": 4,
 "nbformat_minor": 2
}
