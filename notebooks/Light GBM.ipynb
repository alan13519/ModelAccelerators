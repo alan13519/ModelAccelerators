{
 "cells": [
  {
   "cell_type": "code",
   "execution_count": 1,
   "metadata": {
    "ExecuteTime": {
     "end_time": "2020-05-26T20:09:25.772886Z",
     "start_time": "2020-05-26T20:09:24.148270Z"
    }
   },
   "outputs": [],
   "source": [
    "import pandas as pd\n",
    "import matplotlib.pyplot as plt\n",
    "import seaborn as sns\n",
    "import numpy as np\n",
    "\n",
    "from lightgbm import LGBMClassifier\n",
    "from sklearn.metrics import roc_curve\n",
    "from sklearn.metrics import make_scorer, f1_score, precision_score, recall_score, roc_auc_score, accuracy_score\n",
    "from sklearn.model_selection import train_test_split\n",
    "from sklearn.model_selection import StratifiedKFold\n",
    "from sklearn import model_selection\n",
    "\n",
    "from data_preprocess import pre_processing # Used to preprocess data\n",
    "from sklearn.metrics import confusion_matrix\n",
    "\n",
    "import warnings\n",
    "warnings.filterwarnings('always')"
   ]
  },
  {
   "cell_type": "code",
   "execution_count": 2,
   "metadata": {
    "ExecuteTime": {
     "end_time": "2020-05-26T20:09:25.797804Z",
     "start_time": "2020-05-26T20:09:25.773835Z"
    }
   },
   "outputs": [],
   "source": [
    "class LightGBMAccel:\n",
    "    def __init__(self, df, y_label, hypertune=False, lgbm_params={}, \n",
    "                 sequence_matters=False, random_state=42, train_size=0.8,\n",
    "                 objective='binary', **kwargs):\n",
    "        \"\"\" \n",
    "        params:\n",
    "        df: dataframe which we want to detect the anomaly\n",
    "        y_label: the y label of which we are predicting\n",
    "        hypertune: whether or not we want to hypertune the model, if it is false\n",
    "        then it will use base isolation forest params unless parameters are defined\n",
    "        lgbm_params: parameters if we do not want to hypertune the parameters, will \n",
    "        be used if hypertune is equal to True\n",
    "        sequence_matters: True if it is a time series, False otherwise\n",
    "        train_size: train size for train test split\n",
    "        \"\"\"   \n",
    "        \n",
    "        # If sequence is true then we will do a sequence split of first (n% and 1-n%)\n",
    "        # The split is only used if we are hypertuning\n",
    "        if sequence_matters == True:\n",
    "            # Train test train split\n",
    "            train_size = int(train_size * len(df))\n",
    "            train, test = df[:train_size], df[train_size:]\n",
    "        else: # We do a random split, usually for non time series data\n",
    "            # test train split\n",
    "            train, test = train_test_split(df, test_size=(1-train_size), random_state=random_state)\n",
    "            \n",
    "        # Drop labels here\n",
    "        X_train = train.drop(y_label, axis=1)\n",
    "        y_train = train[y_label].values\n",
    "        X_test = test.drop(y_label, axis=1)\n",
    "        y_test = test[y_label].values\n",
    "        \n",
    "        if len(lgbm_params) == 0:\n",
    "            lgbm_params = {\n",
    "                'boosting_type': ['gbdt', 'dart'],\n",
    "                'learning_rate': [0.005, 0.01, 0.02, 0.05, 0.1],\n",
    "                'num_leaves': [6,8,12,16],\n",
    "                'subsample': [0.7,0.75],\n",
    "                'reg_alpha': [1,1.2],\n",
    "                'reg_lambda': [1,1.2,1.4]\n",
    "            }\n",
    "            \n",
    "        \"\"\"\n",
    "        If we want to hypertune we will use the train test split data to find the best\n",
    "        model for the scoring metric we defined, we should always hypertune first, to find\n",
    "        the best parameters, only set hypertune to false once we know the best parameters\n",
    "        \"\"\"\n",
    "        if hypertune == True:\n",
    "            # Some Grid Search params\n",
    "            scoring = kwargs.get('scoring', 'f1')\n",
    "            refit = kwargs.get('refit', True)\n",
    "            cv = kwargs.get('cv', 10)\n",
    "            return_train_score = kwargs.get('return_train_score', True)\n",
    "    \n",
    "            # For CV hypertuning\n",
    "            skf = StratifiedKFold(n_splits=cv)\n",
    "            folds = list(skf.split(X_train, y_train))\n",
    "            \n",
    "            lgbm = LGBMClassifier(class_weight='balanced', objective=objective, random_state=random_state)\n",
    "            grid_dt_estimator = model_selection.GridSearchCV(estimator=lgbm, param_grid=lgbm_params, \n",
    "                               cv=folds,\n",
    "                               refit=refit,\n",
    "                               scoring=scoring,\n",
    "                              return_train_score=return_train_score,\n",
    "                              )\n",
    "            \n",
    "            grid_dt_estimator.fit(X_train, y_train)\n",
    "            \n",
    "            # Save the best model\n",
    "            self.model = grid_dt_estimator.best_estimator_     \n",
    "        else:\n",
    "            boosting_type = kwargs.get('boosting_type', 'dart')\n",
    "            learning_rate = kwargs.get('learning_rate', .1)\n",
    "            num_leaves = kwargs.get('num_leaves', 16)\n",
    "            subsample = kwargs.get('subsample', 0.7)\n",
    "            reg_alpha = kwargs.get('min_samples_split', 1)\n",
    "            reg_lambda = kwargs.get('min_samples_leaf', 1.2)\n",
    "            n_jobs = kwargs.get('n_jobs', -1)\n",
    "            \n",
    "            lgbm = LGBMClassifier(class_weight='balanced',\n",
    "                                  boosting_type=boosting_type,\n",
    "                                  learning_rate=learning_rate,\n",
    "                                  num_leaves=num_leaves,\n",
    "                                  random_state=random_state,\n",
    "                                  subsample=subsample,\n",
    "                                  reg_alpha=reg_alpha,\n",
    "                                  reg_lambda=reg_lambda,\n",
    "                                  n_jobs=n_jobs\n",
    "                                 )\n",
    "            lgbm.fit(X_train, y_train)\n",
    "            \n",
    "            self.model = lgbm\n",
    "            \n",
    "    def predict(self, data):\n",
    "        \"\"\"\n",
    "        This method predicts anomalies given a dataset that this class was trained on,\n",
    "        the dataset must have the same columns as the trained model, it will output the \n",
    "        an array of anomalies, also returns probabilities for each for ROC_AUC scores\n",
    "        \"\"\"\n",
    "        return self.model.predict(data), self.model.predict_proba(data)[:, 1]\n",
    "    \n",
    "    @staticmethod\n",
    "    def get_scores(y_pred, y_true, scoring='f1', y_proba=None):\n",
    "        if scoring.startswith('f1'):\n",
    "            score = f1_score(y_pred, y_true)\n",
    "        elif scoring.startswith('pre'):\n",
    "            score = precision_score(y_pred, y_true)\n",
    "        elif scoring.startswith('rec'):\n",
    "            score = recall_score(y_pred, y_true)\n",
    "        elif scoring.startswith('acc'):\n",
    "            score = accuracy_score(y_pred, y_true)\n",
    "        elif scoring.startswith('roc'):\n",
    "            if  y_proba is None:\n",
    "                score = 'ROC AUC requires probability scores'\n",
    "            else:\n",
    "                score = roc_auc_score(y_pred, y_proba)\n",
    "        else:\n",
    "            score = f\"Scoring Method: {scoring} not implemented\"\n",
    "        return score\n",
    "    \n",
    "    @staticmethod\n",
    "    def get_all_scores(y_pred, y_true, y_proba):\n",
    "        # This just prints all scores above above\n",
    "        print(f\"ROC_AUC: {LightGBMAccel.get_scores(y_pred, y_true, scoring='roc', y_proba=y_proba):0.2f}\")\n",
    "        print(f\"F1: {LightGBMAccel.get_scores(y_pred, y_true, scoring='f1'):0.2f}\")\n",
    "        print(f\"Precision: {LightGBMAccel.get_scores(y_pred, y_true, scoring='pre'):0.2f}\")\n",
    "        print(f\"Recall: {LightGBMAccel.get_scores(y_pred, y_true, scoring='rec'):0.2f}\")\n",
    "        print(f\"Accuracy: {LightGBMAccel.get_scores(y_pred, y_true, scoring='acc'):0.2f}\")\n",
    "\n",
    "    @staticmethod\n",
    "    def get_confusion_matrix(y_pred, y_true, cmap='coolwarm'):\n",
    "        plt.figure(figsize=(10,8))\n",
    "        \n",
    "        cf_matrix = confusion_matrix(y_test, y_true)\n",
    "        group_names = ['Non-Anomalies', 'Falsely Flagged Anom', 'Unflagged Anom', 'True Anomalies']\n",
    "        group_counts = [\"{0:0.0f}\".format(value) for value in cf_matrix.flatten()]\n",
    "        group_percentages = [\"{0:.2%}\".format(value) for value in cf_matrix.flatten()/np.sum(cf_matrix)]\n",
    "        \n",
    "        # Labels combine group names, counts, and percentages\n",
    "        labels = [f\"{v1}\\n{v2}\\n{v3}\" for v1, v2, v3 in zip(group_names, group_counts, group_percentages)] \n",
    "        labels = np.asarray(labels).reshape(2,2)\n",
    "              \n",
    "        sns.heatmap(cf_matrix, annot=labels, fmt=\"\", cmap=cmap)"
   ]
  },
  {
   "cell_type": "code",
   "execution_count": 3,
   "metadata": {
    "ExecuteTime": {
     "end_time": "2020-05-26T20:09:26.085159Z",
     "start_time": "2020-05-26T20:09:25.800769Z"
    }
   },
   "outputs": [],
   "source": [
    "df = pre_processing(pd.read_csv(\"data.csv\"))"
   ]
  },
  {
   "cell_type": "code",
   "execution_count": 4,
   "metadata": {
    "ExecuteTime": {
     "end_time": "2020-05-26T20:09:26.094149Z",
     "start_time": "2020-05-26T20:09:26.087027Z"
    }
   },
   "outputs": [],
   "source": [
    "# We will set aside 20% of the data\n",
    "train_size = 0.8\n",
    "y_label = 'default_ind'\n",
    "\n",
    "# Split data \n",
    "train_size = int(train_size * len(df))\n",
    "train, test = df[:train_size], df[train_size:]\n",
    "\n",
    "# Test is for testing purposes later\n",
    "X_test = test.drop(y_label, axis=1)\n",
    "y_test = test[y_label].values"
   ]
  },
  {
   "cell_type": "code",
   "execution_count": 5,
   "metadata": {
    "ExecuteTime": {
     "end_time": "2020-05-26T20:09:26.252583Z",
     "start_time": "2020-05-26T20:09:26.095005Z"
    }
   },
   "outputs": [],
   "source": [
    "lgbm = LightGBMAccel(df=df, y_label=y_label, hypertune=False)"
   ]
  },
  {
   "cell_type": "code",
   "execution_count": 6,
   "metadata": {
    "ExecuteTime": {
     "end_time": "2020-05-26T20:09:26.465015Z",
     "start_time": "2020-05-26T20:09:26.253580Z"
    }
   },
   "outputs": [
    {
     "name": "stderr",
     "output_type": "stream",
     "text": [
      "C:\\Users\\Himanshu\\Anaconda3\\lib\\site-packages\\seaborn\\matrix.py:268: PendingDeprecationWarning: \n",
      "The label function will be deprecated in a future version. Use Tick.label1 instead.\n",
      "  fontsize = tick.label.get_size()\n",
      "C:\\Users\\Himanshu\\Anaconda3\\lib\\site-packages\\seaborn\\matrix.py:268: PendingDeprecationWarning: \n",
      "The label function will be deprecated in a future version. Use Tick.label1 instead.\n",
      "  fontsize = tick.label.get_size()\n"
     ]
    },
    {
     "data": {
      "image/png": "[encoded data removed]",
      "text/plain": [
       "<Figure size 720x576 with 2 Axes>"
      ]
     },
     "metadata": {
      "needs_background": "light"
     },
     "output_type": "display_data"
    }
   ],
   "source": [
    "y_pred = lgbm.predict(X_test)\n",
    "lgbm.get_confusion_matrix(np.array(y_test), y_pred[0])"
   ]
  },
  {
   "cell_type": "code",
   "execution_count": 7,
   "metadata": {
    "ExecuteTime": {
     "end_time": "2020-05-26T20:09:26.477982Z",
     "start_time": "2020-05-26T20:09:26.466013Z"
    }
   },
   "outputs": [
    {
     "name": "stdout",
     "output_type": "stream",
     "text": [
      "ROC_AUC: 0.79\n",
      "F1: 0.43\n",
      "Precision: 0.30\n",
      "Recall: 0.71\n",
      "Accuracy: 0.73\n"
     ]
    }
   ],
   "source": [
    "lgbm.get_all_scores(y_test, y_pred[0], y_proba=y_pred[1])"
   ]
  },
  {
   "cell_type": "code",
   "execution_count": null,
   "metadata": {},
   "outputs": [],
   "source": []
  }
 ],
 "metadata": {
  "kernelspec": {
   "display_name": "Python 3",
   "language": "python",
   "name": "python3"
  },
  "language_info": {
   "codemirror_mode": {
    "name": "ipython",
    "version": 3
   },
   "file_extension": ".py",
   "mimetype": "text/x-python",
   "name": "python",
   "nbconvert_exporter": "python",
   "pygments_lexer": "ipython3",
   "version": "3.7.3"
  }
 },
 "nbformat": 4,
 "nbformat_minor": 2
}
