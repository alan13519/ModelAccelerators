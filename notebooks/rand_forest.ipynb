{
 "cells": [
  {
   "cell_type": "code",
   "execution_count": 1,
   "metadata": {
    "ExecuteTime": {
     "end_time": "2020-05-26T02:40:27.187858Z",
     "start_time": "2020-05-26T02:40:25.553042Z"
    }
   },
   "outputs": [],
   "source": [
    "import pandas as pd\n",
    "import matplotlib.pyplot as plt\n",
    "import seaborn as sns\n",
    "import numpy as np\n",
    "\n",
    "from sklearn.ensemble import RandomForestClassifier\n",
    "from sklearn.metrics import roc_curve\n",
    "from sklearn.metrics import make_scorer, f1_score, precision_score, recall_score, roc_auc_score, accuracy_score\n",
    "from sklearn.model_selection import train_test_split\n",
    "from sklearn.model_selection import StratifiedKFold\n",
    "from sklearn import model_selection\n",
    "\n",
    "from data_preprocess import pre_processing # Used to preprocess data\n",
    "from sklearn.metrics import confusion_matrix\n",
    "\n",
    "import warnings\n",
    "warnings.filterwarnings('always')"
   ]
  },
  {
   "cell_type": "markdown",
   "metadata": {},
   "source": [
    "## Random Forest Accelerator for Anomaly Detection\n",
    "The model takes in a dataframe and several other parameters and outputs a series of whether a point is an anomaly or not"
   ]
  },
  {
   "cell_type": "code",
   "execution_count": 2,
   "metadata": {
    "ExecuteTime": {
     "end_time": "2020-05-26T02:40:27.216866Z",
     "start_time": "2020-05-26T02:40:27.189810Z"
    }
   },
   "outputs": [],
   "source": [
    "class RandomForestAccel:\n",
    "    def __init__(self, df, y_label, hypertune=False, rand_forest_params={}, \n",
    "                 sequence_matters=False, random_state=42, train_size=0.8,\n",
    "                 **kwargs):\n",
    "        \"\"\" \n",
    "        params:\n",
    "        df: dataframe which we want to detect the anomaly\n",
    "        y_label: the y label of which we are predicting\n",
    "        hypertune: whether or not we want to hypertune the model, if it is false\n",
    "        then it will use base isolation forest params unless parameters are defined\n",
    "        rand_forest_params: parameters if we do not want to hypertune the parameters, will \n",
    "        be used if hypertune is equal to True\n",
    "        sequence_matters: True if it is a time series, False otherwise\n",
    "        train_size: train size for train test split\n",
    "        \"\"\"      \n",
    "        \n",
    "        # If sequence is true then we will do a sequence split of first (n% and 1-n%)\n",
    "        # The split is only used if we are hypertuning, other wise\n",
    "        if sequence_matters == True:\n",
    "            # Train test train split\n",
    "            train_size = int(train_size * len(df))\n",
    "            train, test = df[:train_size], df[train_size:]\n",
    "        else: # We do a random split, usually for non time series data\n",
    "            # test train split\n",
    "            train, test = train_test_split(df, test_size=(1-train_size), random_state=random_state)\n",
    "            \n",
    "        # Drop labels here\n",
    "        X_train = train.drop(y_label, axis=1)\n",
    "        y_train = train[y_label].values\n",
    "        X_test = test.drop(y_label, axis=1)\n",
    "        y_test = test[y_label].values\n",
    "    \n",
    "#         if len(rand_forest_params) == 0:\n",
    "#             rand_forest_params = {'n_estimators': [100, 300, 500, 800, 1200], \n",
    "#               'max_depth': [5, 8, 15, 25, 30],\n",
    "#               'max_features': ['auto', 'sqrt', 'log2'], \n",
    "#               'criterion' :['gini', 'entropy'],\n",
    "#               'min_samples_split': [2, 5, 10, 15, 100],\n",
    "#               'min_samples_leaf': [1, 2, 5, 10],\n",
    "#               'n_jobs': [-1]}\n",
    "             \n",
    "        if len(rand_forest_params) == 0:\n",
    "            rand_forest_params = {'n_estimators': [100], \n",
    "              'max_depth': [100],\n",
    "              'max_features': ['log2'], \n",
    "              'criterion' :['entropy'],\n",
    "              'min_samples_split': [50, 100, 150],\n",
    "              'min_samples_leaf': [5, 10],\n",
    "              'n_jobs': [-1]}\n",
    "                \n",
    "        \"\"\"\n",
    "        If we want to hypertune we will use the train test split data to find the best\n",
    "        model for the scoring metric we defined, we should always hypertune first, to find\n",
    "        the best parameters, only set hypertune to false once we know the best parameters\n",
    "        \"\"\"\n",
    "        if hypertune == True:\n",
    "            # Some Grid Search params\n",
    "            scoring = kwargs.get('scoring', 'f1')\n",
    "            refit = kwargs.get('refit', True)\n",
    "            cv = kwargs.get('cv', 10)\n",
    "            return_train_score = kwargs.get('return_train_score', True)\n",
    "            \n",
    "            # For CV hypertuning\n",
    "            skf = StratifiedKFold(n_splits=cv)\n",
    "            folds = list(skf.split(X_train, y_train))\n",
    "            \n",
    "            rfc = RandomForestClassifier(random_state=random_state, class_weight=\"balanced\")\n",
    "            \n",
    "            grid_dt_estimator = model_selection.GridSearchCV(estimator=rfc, param_grid=rand_forest_params, \n",
    "                               cv=folds,\n",
    "                               refit=refit,\n",
    "                               scoring=scoring,\n",
    "                              return_train_score=return_train_score,\n",
    "                              )\n",
    "            \n",
    "            grid_dt_estimator.fit(X_train, y_train)\n",
    "            \n",
    "            # Save the best model\n",
    "            self.model = grid_dt_estimator.best_estimator_     \n",
    "        else:   \n",
    "            \n",
    "            # RandomForestClassifier(bootstrap=True, class_weight='balanced',\n",
    "#                        criterion='entropy', max_depth=100, max_features='log2',\n",
    "#                        max_leaf_nodes=None, min_impurity_decrease=0.0,\n",
    "#                        min_impurity_split=None, min_samples_leaf=10,\n",
    "#                        min_samples_split=100, min_weight_fraction_leaf=0.0,\n",
    "#                        n_estimators=100, n_jobs=-1, oob_score=False,\n",
    "#                        random_state=42, verbose=0, warm_start=False)\n",
    "            n_estimators = kwargs.get('n_estimators', 100)\n",
    "            max_depth = kwargs.get('max_depth', 100)\n",
    "            max_features = kwargs.get('max_features', 'log2')\n",
    "            criterion = kwargs.get('criterion', 'entropy')\n",
    "            min_samples_split = kwargs.get('min_samples_split', 100)\n",
    "            min_samples_leaf = kwargs.get('min_samples_leaf', 10)\n",
    "            n_jobs = kwargs.get('n_jobs', -1)\n",
    "            \n",
    "            random_forest = RandomForestClassifier(random_state=random_state,\n",
    "                                                   class_weight='balanced',\n",
    "                                                   n_estimators=n_estimators, \n",
    "                                                   max_depth=max_depth, \n",
    "                                                   max_features=max_features, \n",
    "                                                   criterion=criterion, \n",
    "                                                   min_samples_split=min_samples_split, \n",
    "                                                   min_samples_leaf=min_samples_leaf,\n",
    "                                                   n_jobs=-1)\n",
    "            random_forest.fit(X_train, y_train)\n",
    "            \n",
    "            self.model = random_forest\n",
    "            \n",
    "    def predict(self, data):\n",
    "        \"\"\"\n",
    "        This method predicts anomalies given a dataset that this class was trained on,\n",
    "        the dataset must have the same columns as the trained model, it will output the \n",
    "        an array of anomalies, also returns probabilities for each for ROC_AUC scores\n",
    "        \"\"\"\n",
    "        return self.model.predict(data), self.model.predict_proba(data)[:, 1]\n",
    "    \n",
    "    @staticmethod\n",
    "    def get_scores(y_pred, y_true, scoring='f1', y_proba=None):\n",
    "        if scoring.startswith('f1'):\n",
    "            score = f1_score(y_pred, y_true)\n",
    "        elif scoring.startswith('pre'):\n",
    "            score = precision_score(y_pred, y_true)\n",
    "        elif scoring.startswith('rec'):\n",
    "            score = recall_score(y_pred, y_true)\n",
    "        elif scoring.startswith('acc'):\n",
    "            score = accuracy_score(y_pred, y_true)\n",
    "        elif scoring.startswith('roc'):\n",
    "            if  y_proba is None:\n",
    "                score = 'ROC AUC requires probability scores'\n",
    "            else:\n",
    "                score = roc_auc_score(y_pred, y_proba)\n",
    "        else:\n",
    "            score = f\"Scoring Method: {scoring} not implemented\"\n",
    "        return score\n",
    "    \n",
    "    @staticmethod\n",
    "    def get_all_scores(y_pred, y_true, y_proba):\n",
    "        # This just prints all scores above above\n",
    "        print(f\"ROC_AUC: {RandomForestAccel.get_scores(y_pred, y_true, scoring='roc', y_proba=y_proba):0.2f}\")\n",
    "        print(f\"F1: {RandomForestAccel.get_scores(y_pred, y_true, scoring='f1'):0.2f}\")\n",
    "        print(f\"Precision: {RandomForestAccel.get_scores(y_pred, y_true, scoring='pre'):0.2f}\")\n",
    "        print(f\"Recall: {RandomForestAccel.get_scores(y_pred, y_true, scoring='rec'):0.2f}\")\n",
    "        print(f\"Accuracy: {RandomForestAccel.get_scores(y_pred, y_true, scoring='acc'):0.2f}\")\n",
    "\n",
    "    @staticmethod\n",
    "    def get_confusion_matrix(y_pred, y_true, cmap='coolwarm'):\n",
    "        plt.figure(figsize=(10,8))\n",
    "        \n",
    "        cf_matrix = confusion_matrix(y_test, y_true)\n",
    "        group_names = ['Non-Anomalies', 'Falsely Flagged Anom', 'Unflagged Anom', 'True Anomalies']\n",
    "        group_counts = [\"{0:0.0f}\".format(value) for value in cf_matrix.flatten()]\n",
    "        group_percentages = [\"{0:.2%}\".format(value) for value in cf_matrix.flatten()/np.sum(cf_matrix)]\n",
    "        \n",
    "        # Labels combine group names, counts, and percentages\n",
    "        labels = [f\"{v1}\\n{v2}\\n{v3}\" for v1, v2, v3 in zip(group_names, group_counts, group_percentages)] \n",
    "        labels = np.asarray(labels).reshape(2,2)\n",
    "              \n",
    "        sns.heatmap(cf_matrix, annot=labels, fmt=\"\", cmap=cmap)"
   ]
  },
  {
   "cell_type": "markdown",
   "metadata": {},
   "source": [
    "##### Preprocess the Data"
   ]
  },
  {
   "cell_type": "code",
   "execution_count": 3,
   "metadata": {
    "ExecuteTime": {
     "end_time": "2020-05-26T02:40:27.501230Z",
     "start_time": "2020-05-26T02:40:27.219722Z"
    }
   },
   "outputs": [],
   "source": [
    "df = pre_processing(pd.read_csv(\"data.csv\"))"
   ]
  },
  {
   "cell_type": "markdown",
   "metadata": {},
   "source": [
    "##### Set aside some data that the model doesn't see so that we can calculate how well the model does"
   ]
  },
  {
   "cell_type": "code",
   "execution_count": 4,
   "metadata": {
    "ExecuteTime": {
     "end_time": "2020-05-26T02:40:27.509812Z",
     "start_time": "2020-05-26T02:40:27.503095Z"
    }
   },
   "outputs": [],
   "source": [
    "# We will set aside 20% of the data\n",
    "train_size = 0.8\n",
    "y_label = 'default_ind'\n",
    "\n",
    "# Split data \n",
    "train_size = int(train_size * len(df))\n",
    "train, test = df[:train_size], df[train_size:]\n",
    "\n",
    "# Test is for testing purposes later\n",
    "X_test = test.drop(y_label, axis=1)\n",
    "y_test = test[y_label].values"
   ]
  },
  {
   "cell_type": "markdown",
   "metadata": {},
   "source": [
    "##### Model "
   ]
  },
  {
   "cell_type": "code",
   "execution_count": 5,
   "metadata": {
    "ExecuteTime": {
     "end_time": "2020-05-26T02:40:27.763089Z",
     "start_time": "2020-05-26T02:40:27.510803Z"
    }
   },
   "outputs": [],
   "source": [
    "rand_forest = RandomForestAccel(df=df, y_label=y_label, hypertune=False)"
   ]
  },
  {
   "cell_type": "markdown",
   "metadata": {},
   "source": [
    "##### Confusion Matrix"
   ]
  },
  {
   "cell_type": "code",
   "execution_count": 6,
   "metadata": {
    "ExecuteTime": {
     "end_time": "2020-05-26T02:40:28.122713Z",
     "start_time": "2020-05-26T02:40:27.766085Z"
    }
   },
   "outputs": [
    {
     "name": "stderr",
     "output_type": "stream",
     "text": [
      "C:\\Users\\Himanshu\\Anaconda3\\lib\\site-packages\\seaborn\\matrix.py:268: PendingDeprecationWarning: \n",
      "The label function will be deprecated in a future version. Use Tick.label1 instead.\n",
      "  fontsize = tick.label.get_size()\n",
      "C:\\Users\\Himanshu\\Anaconda3\\lib\\site-packages\\seaborn\\matrix.py:268: PendingDeprecationWarning: \n",
      "The label function will be deprecated in a future version. Use Tick.label1 instead.\n",
      "  fontsize = tick.label.get_size()\n"
     ]
    },
    {
     "data": {
      "image/png": "[encoded data removed]",
      "text/plain": [
       "<Figure size 720x576 with 2 Axes>"
      ]
     },
     "metadata": {
      "needs_background": "light"
     },
     "output_type": "display_data"
    }
   ],
   "source": [
    "y_pred = rand_forest.predict(X_test)\n",
    "rand_forest.get_confusion_matrix(np.array(y_test), y_pred[0])"
   ]
  },
  {
   "cell_type": "code",
   "execution_count": 7,
   "metadata": {
    "ExecuteTime": {
     "end_time": "2020-05-26T02:40:28.133689Z",
     "start_time": "2020-05-26T02:40:28.123674Z"
    }
   },
   "outputs": [
    {
     "name": "stdout",
     "output_type": "stream",
     "text": [
      "ROC_AUC: 0.82\n",
      "F1: 0.46\n",
      "Precision: 0.35\n",
      "Recall: 0.64\n",
      "Accuracy: 0.78\n"
     ]
    }
   ],
   "source": [
    "rand_forest.get_all_scores(y_test, y_pred[0], y_proba=y_pred[1])"
   ]
  },
  {
   "cell_type": "code",
   "execution_count": 8,
   "metadata": {
    "ExecuteTime": {
     "end_time": "2020-05-26T02:40:28.142655Z",
     "start_time": "2020-05-26T02:40:28.135641Z"
    }
   },
   "outputs": [
    {
     "data": {
      "text/plain": [
       "RandomForestClassifier(bootstrap=True, class_weight='balanced',\n",
       "                       criterion='entropy', max_depth=100, max_features='log2',\n",
       "                       max_leaf_nodes=None, min_impurity_decrease=0.0,\n",
       "                       min_impurity_split=None, min_samples_leaf=10,\n",
       "                       min_samples_split=100, min_weight_fraction_leaf=0.0,\n",
       "                       n_estimators=100, n_jobs=-1, oob_score=False,\n",
       "                       random_state=42, verbose=0, warm_start=False)"
      ]
     },
     "execution_count": 8,
     "metadata": {},
     "output_type": "execute_result"
    }
   ],
   "source": [
    "rand_forest.model"
   ]
  },
  {
   "cell_type": "code",
   "execution_count": 9,
   "metadata": {
    "ExecuteTime": {
     "end_time": "2020-05-26T02:40:28.146615Z",
     "start_time": "2020-05-26T02:40:28.143655Z"
    }
   },
   "outputs": [],
   "source": [
    "# RandomForestClassifier(bootstrap=True, class_weight='balanced',\n",
    "#                        criterion='entropy', max_depth=100, max_features='log2',\n",
    "#                        max_leaf_nodes=None, min_impurity_decrease=0.0,\n",
    "#                        min_impurity_split=None, min_samples_leaf=10,\n",
    "#                        min_samples_split=100, min_weight_fraction_leaf=0.0,\n",
    "#                        n_estimators=100, n_jobs=-1, oob_score=False,\n",
    "#                        random_state=42, verbose=0, warm_start=False)"
   ]
  }
 ],
 "metadata": {
  "kernelspec": {
   "display_name": "Python 3",
   "language": "python",
   "name": "python3"
  },
  "language_info": {
   "codemirror_mode": {
    "name": "ipython",
    "version": 3
   },
   "file_extension": ".py",
   "mimetype": "text/x-python",
   "name": "python",
   "nbconvert_exporter": "python",
   "pygments_lexer": "ipython3",
   "version": "3.7.3"
  }
 },
 "nbformat": 4,
 "nbformat_minor": 2
}
